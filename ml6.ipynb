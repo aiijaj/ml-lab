{
 "cells": [
  {
   "cell_type": "code",
   "execution_count": 15,
   "id": "5c570874-b53f-4e10-bd71-7d3175c49d2a",
   "metadata": {},
   "outputs": [],
   "source": [
    "import numpy as np\n",
    "import pandas as pd\n",
    "import matplotlib.pyplot as plt\n",
    "from sklearn.linear_model import LinearRegression\n",
    "from sklearn.preprocessing import PolynomialFeatures\n",
    "from sklearn.pipeline import make_pipeline\n",
    "from scipy.spatial.distance import cdist"
   ]
  },
  {
   "cell_type": "code",
   "execution_count": 16,
   "id": "c01e7036-e159-4024-ab36-6de2e28625b6",
   "metadata": {},
   "outputs": [],
   "source": [
    "def gaussian_kernel(x, xi, tau):\n",
    "    \"\"\"\n",
    "    Gaussian kernel function for locally weighted regression.\n",
    "\n",
    "    Parameters:\n",
    "    - x:     Query point (1D array)\n",
    "    - xi:    Training point (1D array)\n",
    "    - tau:   Bandwidth parameter (float)\n",
    "\n",
    "    Returns:\n",
    "    - weight: Similarity (float) between x and xi\n",
    "    \"\"\"\n",
    "    return np.exp(-np.sum((x - xi)**2) / (2 * tau**2))\n"
   ]
  },
  {
   "cell_type": "code",
   "execution_count": 18,
   "id": "f496b6e9-ae67-46d2-9aff-544ad86daf6e",
   "metadata": {},
   "outputs": [],
   "source": [
    "def locally_weighted_regression(x,X,y,tau):\n",
    "    m=X.shape[0]\n",
    "    weights=np.array([gaussian_kernel(x,X[i],tau) for i in range(m)])\n",
    "    W=np.diag(weights)\n",
    "    X_transpose_W=X.T @ W\n",
    "    theta=np.linalg.inv(X_transpose_W @ X) @ X_transpose_W @ y\n",
    "    return x@ theta"
   ]
  },
  {
   "cell_type": "code",
   "execution_count": 19,
   "id": "a1c20a12-5357-4831-acc6-45fc8189d6ab",
   "metadata": {},
   "outputs": [
    {
     "data": {
      "text/plain": [
       "<Figure size 1000x600 with 0 Axes>"
      ]
     },
     "execution_count": 19,
     "metadata": {},
     "output_type": "execute_result"
    },
    {
     "data": {
      "text/plain": [
       "<Figure size 1000x600 with 0 Axes>"
      ]
     },
     "metadata": {},
     "output_type": "display_data"
    }
   ],
   "source": [
    "import numpy as np\n",
    "import matplotlib.pyplot as plt\n",
    "\n",
    "np.random.seed(42)\n",
    "X = np.linspace(0, 2 * np.pi, 100)\n",
    "y = np.sin(X) + 0.1 * np.random.randn(100)\n",
    "\n",
    "X_bias = np.c_[np.ones(X.shape[0]), X]\n",
    "x_test = np.linspace(0, 2 * np.pi, 200)\n",
    "x_test_bias = np.c_[np.ones(x_test.shape[0]), x_test]\n",
    "\n",
    "tau = 0.5\n",
    "y_pred = np.array([locally_weighted_regression(xi, X_bias, y, tau) for xi in x_test_bias])\n",
    "\n",
    "plt.figure(figsize=(10, 6))\n"
   ]
  },
  {
   "cell_type": "code",
   "execution_count": 10,
   "id": "649244f3-344c-4414-8fcb-ca6eb628647d",
   "metadata": {},
   "outputs": [
    {
     "ename": "AttributeError",
     "evalue": "module 'numpy' has no attribute 'dia'",
     "output_type": "error",
     "traceback": [
      "\u001b[1;31m---------------------------------------------------------------------------\u001b[0m",
      "\u001b[1;31mAttributeError\u001b[0m                            Traceback (most recent call last)",
      "Cell \u001b[1;32mIn[10], line 8\u001b[0m\n\u001b[0;32m      6\u001b[0m x_test_bias \u001b[38;5;241m=\u001b[39m np\u001b[38;5;241m.\u001b[39mc_[np\u001b[38;5;241m.\u001b[39mones(x_test\u001b[38;5;241m.\u001b[39mshape[\u001b[38;5;241m0\u001b[39m]), x_test]\n\u001b[0;32m      7\u001b[0m tau\u001b[38;5;241m=\u001b[39m\u001b[38;5;241m0.5\u001b[39m\n\u001b[1;32m----> 8\u001b[0m y_pred\u001b[38;5;241m=\u001b[39mnp\u001b[38;5;241m.\u001b[39marray([locally_weighted_regression(xi,X_bias,y,tau) \u001b[38;5;28;01mfor\u001b[39;00m xi \u001b[38;5;129;01min\u001b[39;00m x_test_bias])\n\u001b[0;32m      9\u001b[0m plt\u001b[38;5;241m.\u001b[39mfigure(figsize\u001b[38;5;241m=\u001b[39m(\u001b[38;5;241m10\u001b[39m,\u001b[38;5;241m6\u001b[39m))\n",
      "Cell \u001b[1;32mIn[10], line 8\u001b[0m, in \u001b[0;36m<listcomp>\u001b[1;34m(.0)\u001b[0m\n\u001b[0;32m      6\u001b[0m x_test_bias \u001b[38;5;241m=\u001b[39m np\u001b[38;5;241m.\u001b[39mc_[np\u001b[38;5;241m.\u001b[39mones(x_test\u001b[38;5;241m.\u001b[39mshape[\u001b[38;5;241m0\u001b[39m]), x_test]\n\u001b[0;32m      7\u001b[0m tau\u001b[38;5;241m=\u001b[39m\u001b[38;5;241m0.5\u001b[39m\n\u001b[1;32m----> 8\u001b[0m y_pred\u001b[38;5;241m=\u001b[39mnp\u001b[38;5;241m.\u001b[39marray([locally_weighted_regression(xi,X_bias,y,tau) \u001b[38;5;28;01mfor\u001b[39;00m xi \u001b[38;5;129;01min\u001b[39;00m x_test_bias])\n\u001b[0;32m      9\u001b[0m plt\u001b[38;5;241m.\u001b[39mfigure(figsize\u001b[38;5;241m=\u001b[39m(\u001b[38;5;241m10\u001b[39m,\u001b[38;5;241m6\u001b[39m))\n",
      "Cell \u001b[1;32mIn[7], line 4\u001b[0m, in \u001b[0;36mlocally_weighted_regression\u001b[1;34m(x, X, y, tau)\u001b[0m\n\u001b[0;32m      2\u001b[0m m\u001b[38;5;241m=\u001b[39mX\u001b[38;5;241m.\u001b[39mshape[\u001b[38;5;241m0\u001b[39m]\n\u001b[0;32m      3\u001b[0m weights\u001b[38;5;241m=\u001b[39mnp\u001b[38;5;241m.\u001b[39marray([gaussian_kernel(x,X[i],tau) \u001b[38;5;28;01mfor\u001b[39;00m i \u001b[38;5;129;01min\u001b[39;00m \u001b[38;5;28mrange\u001b[39m(m)])\n\u001b[1;32m----> 4\u001b[0m W\u001b[38;5;241m=\u001b[39mnp\u001b[38;5;241m.\u001b[39mdia(weights)\n\u001b[0;32m      5\u001b[0m X_transpose_W\u001b[38;5;241m=\u001b[39mX\u001b[38;5;241m.\u001b[39mT \u001b[38;5;241m@\u001b[39m W\n\u001b[0;32m      6\u001b[0m theta\u001b[38;5;241m=\u001b[39mnp\u001b[38;5;241m.\u001b[39mlinalg\u001b[38;5;241m.\u001b[39minv(X_transpose_W \u001b[38;5;241m@\u001b[39m X) \u001b[38;5;241m@\u001b[39m X_transpose_W \u001b[38;5;241m@\u001b[39m y\n",
      "File \u001b[1;32m~\\anaconda3\\Lib\\site-packages\\numpy\\__init__.py:333\u001b[0m, in \u001b[0;36m__getattr__\u001b[1;34m(attr)\u001b[0m\n\u001b[0;32m    330\u001b[0m     \u001b[38;5;124m\"\u001b[39m\u001b[38;5;124mRemoved in NumPy 1.25.0\u001b[39m\u001b[38;5;124m\"\u001b[39m\n\u001b[0;32m    331\u001b[0m     \u001b[38;5;28;01mraise\u001b[39;00m \u001b[38;5;167;01mRuntimeError\u001b[39;00m(\u001b[38;5;124m\"\u001b[39m\u001b[38;5;124mTester was removed in NumPy 1.25.\u001b[39m\u001b[38;5;124m\"\u001b[39m)\n\u001b[1;32m--> 333\u001b[0m \u001b[38;5;28;01mraise\u001b[39;00m \u001b[38;5;167;01mAttributeError\u001b[39;00m(\u001b[38;5;124m\"\u001b[39m\u001b[38;5;124mmodule \u001b[39m\u001b[38;5;132;01m{!r}\u001b[39;00m\u001b[38;5;124m has no attribute \u001b[39m\u001b[38;5;124m\"\u001b[39m\n\u001b[0;32m    334\u001b[0m                      \u001b[38;5;124m\"\u001b[39m\u001b[38;5;132;01m{!r}\u001b[39;00m\u001b[38;5;124m\"\u001b[39m\u001b[38;5;241m.\u001b[39mformat(\u001b[38;5;18m__name__\u001b[39m, attr))\n",
      "\u001b[1;31mAttributeError\u001b[0m: module 'numpy' has no attribute 'dia'"
     ]
    }
   ],
   "source": [
    "np.random.seed(42)\n",
    "X=np.linspace(0,2 *np.pi,100)\n",
    "y=np.sin(X) +0.1*np.random.randn(100)\n",
    "X_bias = np.c_[np.ones(X.shape[0]), X]\n",
    "x_test=np.linspace(0,2*np.pi,200)\n",
    "x_test_bias = np.c_[np.ones(x_test.shape[0]), x_test]\n",
    "tau=0.5\n",
    "y_pred=np.array([locally_weighted_regression(xi,X_bias,y,tau) for xi in x_test_bias])\n",
    "plt.figure(figsize=(10,6))"
   ]
  }
 ],
 "metadata": {
  "kernelspec": {
   "display_name": "Python 3 (ipykernel)",
   "language": "python",
   "name": "python3"
  },
  "language_info": {
   "codemirror_mode": {
    "name": "ipython",
    "version": 3
   },
   "file_extension": ".py",
   "mimetype": "text/x-python",
   "name": "python",
   "nbconvert_exporter": "python",
   "pygments_lexer": "ipython3",
   "version": "3.11.7"
  }
 },
 "nbformat": 4,
 "nbformat_minor": 5
}
